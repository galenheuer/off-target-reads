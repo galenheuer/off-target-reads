{
 "cells": [
  {
   "cell_type": "code",
   "execution_count": 1,
   "id": "241dc1f2",
   "metadata": {},
   "outputs": [
    {
     "ename": "ModuleNotFoundError",
     "evalue": "No module named 'statsmodels'",
     "output_type": "error",
     "traceback": [
      "\u001b[0;31m---------------------------------------------------------------------------\u001b[0m",
      "\u001b[0;31mModuleNotFoundError\u001b[0m                       Traceback (most recent call last)",
      "\u001b[0;32m/tmp/ipykernel_9801/1921499433.py\u001b[0m in \u001b[0;36m<module>\u001b[0;34m\u001b[0m\n\u001b[1;32m      3\u001b[0m \u001b[0;32mimport\u001b[0m \u001b[0mmatplotlib\u001b[0m\u001b[0;34m.\u001b[0m\u001b[0mpyplot\u001b[0m \u001b[0;32mas\u001b[0m \u001b[0mplt\u001b[0m\u001b[0;34m\u001b[0m\u001b[0;34m\u001b[0m\u001b[0m\n\u001b[1;32m      4\u001b[0m \u001b[0;32mimport\u001b[0m \u001b[0mscipy\u001b[0m\u001b[0;34m\u001b[0m\u001b[0;34m\u001b[0m\u001b[0m\n\u001b[0;32m----> 5\u001b[0;31m \u001b[0;32mimport\u001b[0m \u001b[0mstatsmodels\u001b[0m\u001b[0;34m.\u001b[0m\u001b[0mapi\u001b[0m \u001b[0;32mas\u001b[0m \u001b[0msm\u001b[0m\u001b[0;34m\u001b[0m\u001b[0;34m\u001b[0m\u001b[0m\n\u001b[0m\u001b[1;32m      6\u001b[0m \u001b[0;32mimport\u001b[0m \u001b[0mstatsmodels\u001b[0m\u001b[0;34m.\u001b[0m\u001b[0mformula\u001b[0m\u001b[0;34m.\u001b[0m\u001b[0mapi\u001b[0m \u001b[0;32mas\u001b[0m \u001b[0msmf\u001b[0m\u001b[0;34m\u001b[0m\u001b[0;34m\u001b[0m\u001b[0m\n\u001b[1;32m      7\u001b[0m \u001b[0;32mfrom\u001b[0m \u001b[0mstatsmodels\u001b[0m\u001b[0;34m.\u001b[0m\u001b[0mstats\u001b[0m\u001b[0;34m.\u001b[0m\u001b[0mmultitest\u001b[0m \u001b[0;32mimport\u001b[0m \u001b[0mmultipletests\u001b[0m\u001b[0;34m\u001b[0m\u001b[0;34m\u001b[0m\u001b[0m\n",
      "\u001b[0;31mModuleNotFoundError\u001b[0m: No module named 'statsmodels'"
     ]
    }
   ],
   "source": [
    "import pandas as pd \n",
    "import seaborn as sns \n",
    "import matplotlib.pyplot as plt \n",
    "import scipy\n",
    "import statsmodels.api as sm\n",
    "import statsmodels.formula.api as smf\n",
    "from statsmodels.stats.multitest import multipletests\n",
    "import numpy as np \n",
    "import warnings \n",
    "pd.options.mode.chained_assignment = None"
   ]
  },
  {
   "cell_type": "code",
   "execution_count": null,
   "id": "38c72bb2",
   "metadata": {},
   "outputs": [],
   "source": [
    "# set white seaborn plotting style \n",
    "sns.set(context='talk', style='white', rc={'figure.facecolor':'white'}, font_scale=1)\n",
    "sns.set_style('ticks')"
   ]
  },
  {
   "cell_type": "markdown",
   "id": "8a12c88a",
   "metadata": {},
   "source": [
    "# metadata"
   ]
  },
  {
   "cell_type": "code",
   "execution_count": null,
   "id": "d8e3279d",
   "metadata": {},
   "outputs": [],
   "source": [
    "metadata = pd.read_csv(\"combined_metadata_redone.csv\")"
   ]
  },
  {
   "cell_type": "markdown",
   "id": "eb35a2e7",
   "metadata": {},
   "source": [
    "# microbiome data"
   ]
  },
  {
   "cell_type": "code",
   "execution_count": null,
   "id": "205a38a3",
   "metadata": {},
   "outputs": [],
   "source": [
    "uq_micro = pd.read_csv(\"uq_micro_read_counts.csv\")\n",
    "\n",
    "uq_micro = uq_micro.dropna(subset=\"Taxa\")\n",
    "\n",
    "uq_micro = uq_micro.T.reset_index()\n",
    "uq_micro.columns = uq_micro.iloc[0]\n",
    "uq_micro = uq_micro[1:]\n",
    "\n",
    "uq_micro = uq_micro.rename(columns={\"Taxa\":\"sample\"})"
   ]
  },
  {
   "cell_type": "code",
   "execution_count": null,
   "id": "d4ce0455",
   "metadata": {},
   "outputs": [],
   "source": [
    "uq_micro[\"sample\"] = uq_micro[\"sample\"].astype(int)\n",
    "uq_micro[\"sample\"] = uq_micro[\"sample\"] + 96"
   ]
  },
  {
   "cell_type": "code",
   "execution_count": null,
   "id": "282c261d",
   "metadata": {},
   "outputs": [],
   "source": [
    "uq_micro_meta = uq_micro.merge(metadata, left_on=\"sample\", right_on=\"sample_num\")"
   ]
  },
  {
   "cell_type": "code",
   "execution_count": null,
   "id": "c7ee7ee1",
   "metadata": {},
   "outputs": [],
   "source": [
    "uq_micro_meta[\"Sex\"] = uq_micro_meta[\"Sex\"].replace({\"Male\":0, \"Female\":1})\n",
    "uq_micro_meta[\"status\"] = uq_micro_meta[\"sample_type\"].replace({\"Control\":0, \"ALS\":1, \"BS Control\":0})"
   ]
  },
  {
   "cell_type": "markdown",
   "id": "570900b3",
   "metadata": {},
   "source": [
    "# association testing"
   ]
  },
  {
   "cell_type": "code",
   "execution_count": null,
   "id": "817b1af2",
   "metadata": {},
   "outputs": [],
   "source": [
    "tests = []\n",
    "\n",
    "for micro in list(uq_micro)[1:]: \n",
    "    \n",
    "    df = uq_micro_meta[[micro, \"status\", \"Sex\", \"age\", \"concentration\", \"postOtr\"]]\n",
    "    df[micro] = df[micro].astype(int)\n",
    "    df = df.rename(columns={micro:\"micro\"})\n",
    "\n",
    "\n",
    "    mod = smf.glm(formula='status ~ micro + Sex + age + concentration', \n",
    "                  family=sm.families.Binomial(), \n",
    "                  data=df).fit()  \n",
    "\n",
    "    pval = mod.summary2().tables[1][\"P>|z|\"][\"micro\"]\n",
    "    coeff = mod.summary2().tables[1][\"Coef.\"][\"micro\"]\n",
    "\n",
    "    tests.append([micro, pval, coeff])\n",
    "\n"
   ]
  },
  {
   "cell_type": "code",
   "execution_count": null,
   "id": "66fcbb71",
   "metadata": {},
   "outputs": [],
   "source": [
    "uq_micro_test = pd.DataFrame(tests, columns=[\"microorganism\", \"pval\", \"coefficient\"])"
   ]
  },
  {
   "cell_type": "code",
   "execution_count": null,
   "id": "4fc0a390",
   "metadata": {},
   "outputs": [],
   "source": [
    "uq_micro_test[\"fdr\"] = multipletests(uq_micro_test[\"pval\"], method=\"fdr_bh\", alpha=0.05)[0]\n",
    "uq_micro_test[\"qval\"] = multipletests(uq_micro_test[\"pval\"], method=\"fdr_bh\", alpha=0.05)[1]"
   ]
  },
  {
   "cell_type": "code",
   "execution_count": null,
   "id": "27f1cf42",
   "metadata": {},
   "outputs": [],
   "source": [
    "uq_micro_test.sort_values(by=\"pval\")"
   ]
  },
  {
   "cell_type": "code",
   "execution_count": null,
   "id": "1c8d5d4e",
   "metadata": {},
   "outputs": [],
   "source": [
    "uq_micro_test[uq_micro_test[\"fdr\"] == True]"
   ]
  },
  {
   "cell_type": "code",
   "execution_count": null,
   "id": "b6dc3f87",
   "metadata": {},
   "outputs": [],
   "source": []
  }
 ],
 "metadata": {
  "kernelspec": {
   "display_name": "Python 3 (ipykernel)",
   "language": "python",
   "name": "python3"
  },
  "language_info": {
   "codemirror_mode": {
    "name": "ipython",
    "version": 3
   },
   "file_extension": ".py",
   "mimetype": "text/x-python",
   "name": "python",
   "nbconvert_exporter": "python",
   "pygments_lexer": "ipython3",
   "version": "3.9.6"
  }
 },
 "nbformat": 4,
 "nbformat_minor": 5
}
